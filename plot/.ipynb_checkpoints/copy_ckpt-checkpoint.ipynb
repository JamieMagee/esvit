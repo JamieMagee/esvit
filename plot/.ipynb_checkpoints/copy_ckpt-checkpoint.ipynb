{
 "cells": [
  {
   "cell_type": "code",
   "execution_count": 2,
   "id": "16103b1e",
   "metadata": {},
   "outputs": [],
   "source": [
    "import numpy as np\n",
    "import matplotlib.pyplot as plt\n",
    "import os\n",
    "import json\n",
    "import glob"
   ]
  },
  {
   "cell_type": "code",
   "execution_count": 3,
   "id": "b3a587ce",
   "metadata": {},
   "outputs": [
    {
     "ename": "NameError",
     "evalue": "name 'dataset_names' is not defined",
     "output_type": "error",
     "traceback": [
      "\u001b[0;31m---------------------------------------------------------------------------\u001b[0m",
      "\u001b[0;31mNameError\u001b[0m                                 Traceback (most recent call last)",
      "\u001b[0;32m<ipython-input-3-1ad387760290>\u001b[0m in \u001b[0;36m<module>\u001b[0;34m\u001b[0m\n\u001b[1;32m     11\u001b[0m \u001b[0;34m\u001b[0m\u001b[0m\n\u001b[1;32m     12\u001b[0m \u001b[0;34m\u001b[0m\u001b[0m\n\u001b[0;32m---> 13\u001b[0;31m     \u001b[0;32mif\u001b[0m \u001b[0mfile\u001b[0m\u001b[0;34m.\u001b[0m\u001b[0msplit\u001b[0m\u001b[0;34m(\u001b[0m\u001b[0;34m'/'\u001b[0m\u001b[0;34m)\u001b[0m\u001b[0;34m[\u001b[0m\u001b[0;34m-\u001b[0m\u001b[0;36m2\u001b[0m\u001b[0;34m]\u001b[0m \u001b[0;32min\u001b[0m \u001b[0mdataset_names\u001b[0m\u001b[0;34m:\u001b[0m\u001b[0;34m\u001b[0m\u001b[0;34m\u001b[0m\u001b[0m\n\u001b[0m\u001b[1;32m     14\u001b[0m         \u001b[0mprint\u001b[0m\u001b[0;34m(\u001b[0m\u001b[0mfile\u001b[0m\u001b[0;34m.\u001b[0m\u001b[0msplit\u001b[0m\u001b[0;34m(\u001b[0m\u001b[0;34m'/'\u001b[0m\u001b[0;34m)\u001b[0m\u001b[0;34m[\u001b[0m\u001b[0;34m-\u001b[0m\u001b[0;36m2\u001b[0m\u001b[0;34m]\u001b[0m\u001b[0;34m)\u001b[0m\u001b[0;34m\u001b[0m\u001b[0;34m\u001b[0m\u001b[0m\n",
      "\u001b[0;31mNameError\u001b[0m: name 'dataset_names' is not defined"
     ]
    }
   ],
   "source": [
    "proj_path = '/home/msrdl/azure_mounts/exp_output/dino_exp'\n",
    "ckpt_path = ''\n",
    "ckpt_path = os.path.join(proj_path, ckpt_path)\n",
    "\n",
    "datasets, accs = [], []\n",
    "# Returns a list of names in list files.\n",
    "txt_path = os.path.join(ckpt_path, f'**/checkpoint.pth')\n",
    "\n",
    "files = glob.glob(txt_path, recursive = True)\n",
    "\n"
   ]
  },
  {
   "cell_type": "code",
   "execution_count": 28,
   "id": "bdc4f9ae",
   "metadata": {},
   "outputs": [
    {
     "name": "stdout",
     "output_type": "stream",
     "text": [
      "/home/msrdl/azure_mounts/exp_output/dino_exp/vil/vil_1281/bl_lr0.0005_gpu16_bs64_2crop_epoch100/checkpoint.pth\n",
      "/home/msrdl/azure_mounts/exp_output/dino_exp/vil/vil_1281/bl_lr0.0005_gpu16_bs64_multicrop_epoch100/checkpoint.pth\n",
      "/home/msrdl/azure_mounts/exp_output/dino_exp/vil/vil_1281/bl_lr0.0005_gpu16_bs64_multicrop_epoch100_lastglobal/checkpoint.pth\n",
      "/home/msrdl/azure_mounts/exp_output/dino_exp/vil/vil_1281/bl_lr0.0005_gpu16_bs64_multicrop_epoch300/checkpoint.pth\n",
      "/home/msrdl/azure_mounts/exp_output/dino_exp/vil/vil_14121/bl_lr0.0005_gpu16_bs32_multicrop_epoch300/checkpoint.pth\n",
      "/home/msrdl/azure_mounts/exp_output/dino_exp/vil/vil_14121/bl_lr0.0005_gpu16_bs64_multicrop_epoch300/checkpoint.pth\n",
      "/home/msrdl/azure_mounts/exp_output/dino_exp/vil/vil_2262/bl_lr0.0005_gpu16_bs32_multicrop_epoch300/vil_mode0/checkpoint.pth\n",
      "/home/msrdl/azure_mounts/exp_output/dino_exp/vil/vil_2262/bl_lr0.0005_gpu16_bs64_multicrop_epoch100/checkpoint.pth\n",
      "/home/msrdl/azure_mounts/exp_output/dino_exp/vil/vil_2262/bl_lr0.0005_gpu16_bs64_multicrop_epoch300/checkpoint.pth\n",
      "/home/msrdl/azure_mounts/exp_output/dino_exp/vil/vil_2262/bl_lr0.0005_gpu16_bs64_multicrop_epoch300/continued_from0200_dense/checkpoint.pth\n",
      "/home/msrdl/azure_mounts/exp_output/dino_exp/deit/swin_tiny/bl_lr0.0005_gpu16_bs64_2crop_zip/checkpoint.pth\n",
      "/home/msrdl/azure_mounts/exp_output/dino_exp/deit/deit_small/bl_lr0.0005_gpu4_bs128_2crop/checkpoint.pth\n",
      "/home/msrdl/azure_mounts/exp_output/dino_exp/deit/deit_small/bl_lr0.0005_gpu16_bs128_2crop_zip/checkpoint.pth\n",
      "/home/msrdl/azure_mounts/exp_output/dino_exp/deit/deit_small/bl_lr0.0005_gpu16_bs64_multicrop_epoch100/checkpoint.pth\n",
      "/home/msrdl/azure_mounts/exp_output/dino_exp/deit/deit_small/bl_lr0.0005_gpu16_bs128/checkpoint.pth\n",
      "/home/msrdl/azure_mounts/exp_output/dino_exp/deit/deit_small/bl_lr0.0005_gpu16_bs128_zip/checkpoint.pth\n",
      "/home/msrdl/azure_mounts/exp_output/dino_exp/deit/deit_small/bl_lr0.0005_gpu16_bs16_dense_multicrop_epoch100/checkpoint.pth\n",
      "/home/msrdl/azure_mounts/exp_output/dino_exp/deit/deit_small/bl_lr0.0005_gpu16_bs64_2crop_epoch100/checkpoint.pth\n",
      "/home/msrdl/azure_mounts/exp_output/dino_exp/deit/deit_small/bl_lr0.0005_gpu16_bs64_multicrop_epoch300/checkpoint.pth\n",
      "/home/msrdl/azure_mounts/exp_output/dino_exp/deit/deit_small/bl_lr0.0005_gpu16_bs64_multicrop_epoch300_deit_aug/checkpoint.pth\n",
      "/home/msrdl/azure_mounts/exp_output/dino_exp/deit/deit_small/bl_lr0.0005_gpu4_bs128/checkpoint.pth\n",
      "/home/msrdl/azure_mounts/exp_output/dino_exp/deit/deit_small/bl_lr0.0005_gpu4_bs64/checkpoint.pth\n",
      "/home/msrdl/azure_mounts/exp_output/dino_exp/deit/deit_small/bl_lr0.0005_gpu4_bs64_multicrop_epoch100_deit_aug/checkpoint.pth\n",
      "/home/msrdl/azure_mounts/exp_output/dino_exp/resnet/resnet50/bl_lr0.0005_gpu16_bs64_multicrop_epoch300_dino_aug/checkpoint.pth\n",
      "/home/msrdl/azure_mounts/exp_output/dino_exp/resnet/resnet50/bl_lr0.0005_gpu16_bs64_multicrop_epoch300_dino_aug/resume_from_ckpt0200/checkpoint.pth\n",
      "/home/msrdl/azure_mounts/exp_output/dino_exp/resnet/resnet50/bl_lr0.0005_gpu16_bs64_multicrop_epoch300_dino_aug/resume_from_ckpt0085/checkpoint.pth\n",
      "/home/msrdl/azure_mounts/exp_output/dino_exp/cvt/cvt_tiny/bl_lr0.0005_gpu16_bs64_multicrop_epoch100_dino_aug/checkpoint.pth\n",
      "/home/msrdl/azure_mounts/exp_output/dino_exp/cvt/cvt_tiny/bl_lr0.0005_gpu16_bs64_multicrop_epoch300_dino_aug/checkpoint.pth\n",
      "/home/msrdl/azure_mounts/exp_output/dino_exp/cvt/cvt_tiny/bl_lr0.0005_gpu16_bs64_multicrop_epoch300_dino_aug/continued_from0200_dense/checkpoint.pth\n",
      "/home/msrdl/azure_mounts/exp_output/dino_exp/swin/swin_large/bl_lr0.0005_nodes4_gpu16_bs16_multicrop_epoch300_dino_aug/checkpoint.pth\n",
      "/home/msrdl/azure_mounts/exp_output/dino_exp/swin/swin_large/bl_lr0.0005_nodes2_gpu16_bs16_multicrop_epoch300_dino_aug/resume_from_ckpt0150_dense/checkpoint.pth\n",
      "/home/msrdl/azure_mounts/exp_output/dino_exp/swin/swin_large/bl_lr0.0005_nodes2_gpu16_bs16_multicrop_epoch300_dino_aug/resume_from_ckpt0160_dense/checkpoint.pth\n",
      "/home/msrdl/azure_mounts/exp_output/dino_exp/swin/swin_large/bl_lr0.0005_nodes2_gpu16_bs16_multicrop_epoch300_dino_aug/resume_from_ckpt0200/imagenet22k/checkpoint.pth\n",
      "/home/msrdl/azure_mounts/exp_output/dino_exp/swin/swin_large/bl_lr0.0005_nodes2_gpu16_bs16_multicrop_epoch300_dino_aug/resume_from_ckpt0200/num_mixup_views2/checkpoint.pth\n",
      "/home/msrdl/azure_mounts/exp_output/dino_exp/swin/swin_large/bl_lr0.0005_nodes2_gpu16_bs16_multicrop_epoch300_dino_aug/resume_from_ckpt0205_dense/checkpoint.pth\n",
      "/home/msrdl/azure_mounts/exp_output/dino_exp/swin/swin_large/bl_lr0.0005_nodes2_gpu16_bs16_multicrop_epoch300_dino_aug/resume_from_ckpt150_dense/checkpoint.pth\n",
      "/home/msrdl/azure_mounts/exp_output/dino_exp/swin/swin_large/bl_lr0.0005_nodes4_gpu16_bs8_multicrop_epoch300_dino_aug_window14/checkpoint.pth\n",
      "/home/msrdl/azure_mounts/exp_output/dino_exp/swin/swin_large/bl_lr0.0005_nodes4_gpu16_bs8_multicrop_epoch300_dino_aug_window14/resume_from_ckpt0200/checkpoint.pth\n",
      "/home/msrdl/azure_mounts/exp_output/dino_exp/swin/swin_tiny/bl_lr0.0005_gpu16_bs64_multicrop_epoch300_dino_aug_window7_imagenet22k_debug/checkpoint.pth\n",
      "/home/msrdl/azure_mounts/exp_output/dino_exp/swin/swin_tiny/bl_lr0.0005_gpu16_bs64_multicrop_epoch300/checkpoint.pth\n",
      "/home/msrdl/azure_mounts/exp_output/dino_exp/swin/swin_tiny/bl_lr0.0005_gpu16_bs64_multicrop_epoch300/continued_from0200_dense/checkpoint.pth\n",
      "/home/msrdl/azure_mounts/exp_output/dino_exp/swin/swin_tiny/bl_lr0.0005_gpu16_bs64_multicrop_epoch300/mixup/resume_from_ckpt0040/view2/checkpoint.pth\n",
      "/home/msrdl/azure_mounts/exp_output/dino_exp/swin/swin_tiny/bl_lr0.0005_gpu16_bs64_multicrop_epoch300/mixup/resume_from_ckpt0100/view2/checkpoint.pth\n",
      "/home/msrdl/azure_mounts/exp_output/dino_exp/swin/swin_tiny/bl_lr0.0005_gpu16_bs64_multicrop_epoch300/mixup/resume_from_ckpt0200/view2/checkpoint.pth\n",
      "/home/msrdl/azure_mounts/exp_output/dino_exp/swin/swin_tiny/bl_lr0.0005_gpu16_bs64_multicrop_epoch300/mixup/resume_from_ckpt0240/view2/checkpoint.pth\n",
      "/home/msrdl/azure_mounts/exp_output/dino_exp/swin/swin_tiny/bl_lr0.0005_gpu16_bs32_multicrop_epoch300_dino_aug_window7/checkpoint.pth\n",
      "/home/msrdl/azure_mounts/exp_output/dino_exp/swin/swin_tiny/bl_lr0.0005_gpu16_bs64_multicrop_epoch150_dino_aug_window7_webvision1_debug/checkpoint.pth\n",
      "/home/msrdl/azure_mounts/exp_output/dino_exp/swin/swin_tiny/bl_lr0.0005_gpu16_bs32_dense_multicrop_epoch300/checkpoint.pth\n",
      "/home/msrdl/azure_mounts/exp_output/dino_exp/swin/swin_tiny/bl_lr0.0005_gpu16_bs64_multicrop_epoch150_dino_aug_window7_openimages_v4_debug/checkpoint.pth\n",
      "/home/msrdl/azure_mounts/exp_output/dino_exp/swin/swin_tiny/bl_lr0.0005_gpu16_bs64_multicrop_epoch100/checkpoint.pth\n",
      "/home/msrdl/azure_mounts/exp_output/dino_exp/swin/swin_tiny/bl_lr0.0005_gpu16_bs32_dense_multicrop_epoch100/checkpoint.pth\n",
      "/home/msrdl/azure_mounts/exp_output/dino_exp/swin/swin_tiny/bl_lr0.0005_gpu16_bs32_dense_multicrop_epoch100_deit_aug/checkpoint.pth\n",
      "/home/msrdl/azure_mounts/exp_output/dino_exp/swin/swin_tiny/bl_lr0.0005_gpu16_bs32_dense_multicrop_epoch300_deit_aug/checkpoint.pth\n",
      "/home/msrdl/azure_mounts/exp_output/dino_exp/swin/swin_tiny/bl_lr0.0005_gpu16_bs32_multicrop_epoch100_dino_aug_window7/checkpoint.pth\n",
      "/home/msrdl/azure_mounts/exp_output/dino_exp/swin/swin_tiny/bl_lr0.0005_gpu16_bs32_multicrop_epoch300_dino_aug_window14/checkpoint.pth\n",
      "/home/msrdl/azure_mounts/exp_output/dino_exp/swin/swin_tiny/bl_lr0.0005_gpu16_bs32_multicrop_epoch300_dino_aug_window14/continued_from0200_dense/checkpoint.pth\n",
      "/home/msrdl/azure_mounts/exp_output/dino_exp/swin/swin_tiny/bl_lr0.0005_gpu16_bs64_multicrop_epoch100_dino_aug_window7_view0/checkpoint.pth\n",
      "/home/msrdl/azure_mounts/exp_output/dino_exp/swin/swin_tiny/bl_lr0.0005_gpu16_bs64_multicrop_epoch100_dino_aug_window7_view1/checkpoint.pth\n",
      "/home/msrdl/azure_mounts/exp_output/dino_exp/swin/swin_tiny/bl_lr0.0005_gpu16_bs64_multicrop_epoch100_dino_aug_window7_view10/checkpoint.pth\n",
      "/home/msrdl/azure_mounts/exp_output/dino_exp/swin/swin_tiny/bl_lr0.0005_gpu16_bs64_multicrop_epoch100_dino_aug_window7_view2/checkpoint.pth\n",
      "/home/msrdl/azure_mounts/exp_output/dino_exp/swin/swin_tiny/bl_lr0.0005_gpu16_bs64_multicrop_epoch100_dino_aug_window7_view6/checkpoint.pth\n",
      "/home/msrdl/azure_mounts/exp_output/dino_exp/swin/swin_tiny/bl_lr0.0005_gpu16_bs64_multicrop_epoch300_dino_aug_window7_webvision1_debug/checkpoint.pth\n"
     ]
    },
    {
     "name": "stdout",
     "output_type": "stream",
     "text": [
      "/home/msrdl/azure_mounts/exp_output/dino_exp/swin/swin_tiny/crops/bl_lr0.0005_gpu16_bs64_multicrop_epoch300_dino_aug_window7_crop_n2_2_4_8_size112_96_48_32/checkpoint.pth\n",
      "/home/msrdl/azure_mounts/exp_output/dino_exp/swin/swin_tiny/crops/bl_lr0.0005_gpu16_bs64_multicrop_epoch300_dino_aug_window7_cropsize112/checkpoint.pth\n",
      "/home/msrdl/azure_mounts/exp_output/dino_exp/swin/swin_tiny/crops/bl_lr0.0005_gpu16_bs64_multicrop_epoch300_dino_aug_window7_cropsize48/checkpoint.pth\n",
      "/home/msrdl/azure_mounts/exp_output/dino_exp/swin/swin_tiny/mixup/bl_lr0.0005_gpu16_bs64_multicrop_epoch300_dino_aug_window7_view1/checkpoint.pth\n",
      "/home/msrdl/azure_mounts/exp_output/dino_exp/swin/swin_tiny/mixup/bl_lr0.0005_gpu16_bs64_multicrop_epoch300_dino_aug_window7_view10/checkpoint.pth\n",
      "/home/msrdl/azure_mounts/exp_output/dino_exp/swin/swin_tiny/mixup/bl_lr0.0005_gpu16_bs64_multicrop_epoch300_dino_aug_window7_view2/checkpoint.pth\n",
      "/home/msrdl/azure_mounts/exp_output/dino_exp/swin/swin_tiny/mixup/bl_lr0.0005_gpu16_bs64_multicrop_epoch300_dino_aug_window7_view6/checkpoint.pth\n",
      "/home/msrdl/azure_mounts/exp_output/dino_exp/swin/swin_small/bl_lr0.0005_gpu16_bs32_dense_multicrop_epoch300/checkpoint.pth\n",
      "/home/msrdl/azure_mounts/exp_output/dino_exp/swin/swin_small/bl_lr0.0005_gpu16_bs32_multicrop_epoch300/checkpoint.pth\n",
      "/home/msrdl/azure_mounts/exp_output/dino_exp/swin/swin_small/bl_lr0.0005_gpu16_bs16_multicrop_epoch300_dino_aug_window14/continued_from0180_dense/checkpoint.pth\n",
      "/home/msrdl/azure_mounts/exp_output/dino_exp/swin/swin_small/bl_lr0.0005_gpu16_bs16_multicrop_epoch300_dino_aug_window14/continued_from0180_dense_normalized/checkpoint.pth\n",
      "/home/msrdl/azure_mounts/exp_output/dino_exp/swin/swin_small/bl_lr0.0005_gpu16_bs16_multicrop_epoch300_dino_aug_window14/continued_from0250_dense/checkpoint.pth\n",
      "/home/msrdl/azure_mounts/exp_output/dino_exp/swin/swin_small/bl_lr0.0005_gpu16_bs32_multicrop_epoch300_deit_aug/checkpoint.pth\n",
      "/home/msrdl/azure_mounts/exp_output/dino_exp/swin/swin_small/bl_lr0.0005_nodes2_gpu16_bs16_multicrop_epoch300_dino_aug_window14/checkpoint.pth\n",
      "/home/msrdl/azure_mounts/exp_output/dino_exp/swin/swin_base/bl_lr0.0005_gpu16_bs32_multicrop_epoch300_dino_aug/checkpoint.pth\n",
      "/home/msrdl/azure_mounts/exp_output/dino_exp/swin/swin_base/bl_lr0.0005_gpu16_bs32_multicrop_epoch300_dino_aug/continued_from0200_dense/checkpoint.pth\n",
      "/home/msrdl/azure_mounts/exp_output/dino_exp/swin/swin_base/bl_lr0.0005_gpu16_bs32_multicrop_epoch300_dino_aug/continued_from_epoch200_mixup_views2/checkpoint.pth\n",
      "/home/msrdl/azure_mounts/exp_output/dino_exp/swin/swin_base/bl_lr0.0005_gpu16_bs32_multicrop_epoch300_dino_aug/continued_from_epoch260_mixup_views2/checkpoint.pth\n",
      "/home/msrdl/azure_mounts/exp_output/dino_exp/swin/swin_base/bl_lr0.0005_nodes4_gpu16_bs8_multicrop_epoch300_dino_aug_window14_lv/checkpoint.pth\n",
      "/home/msrdl/azure_mounts/exp_output/dino_exp/swin/swin_base/bl_lr0.0005_nodes4_gpu16_bs8_multicrop_epoch300_dino_aug_window14_lv/continued_from_epoch0200_dense/checkpoint.pth\n",
      "/home/msrdl/azure_mounts/exp_output/dino_exp/swin/swin_base/bl_lr0.0005_nodes4_gpu16_bs8_multicrop_epoch300_dino_aug_window14_lv/continued_from_epoch0200_dense_norm_true/checkpoint.pth\n",
      "/home/msrdl/azure_mounts/exp_output/dino_exp/swin/swin_base/bl_lr0.0005_nodes4_gpu16_bs8_multicrop_epoch300_dino_aug_window14_lv/continued_from_epoch0240_dense/checkpoint.pth\n",
      "/home/msrdl/azure_mounts/exp_output/dino_exp/swin/swin_base/bl_lr0.0005_nodes2_gpu16_bs32_multicrop_epoch300_dino_aug/checkpoint.pth\n",
      "/home/msrdl/azure_mounts/exp_output/dino_exp/swin/swin_base/bl_lr0.0005_nodes2_gpu16_bs32_multicrop_epoch300_dino_aug/continued_to_epoch600/checkpoint.pth\n",
      "/home/msrdl/azure_mounts/exp_output/dino_exp/swin/swin_base/bl_lr0.0005_gpu16_bs16_multicrop_epoch300_dino_aug/checkpoint.pth\n"
     ]
    }
   ],
   "source": [
    "for file in files:\n",
    "    print(file)\n",
    "    \n",
    "    file_path_source = file.split('/')\n",
    "    file_path_target = file_path_source\n",
    "    file_path_target[5] = 'ckpts/esvit'\n",
    "\n",
    "    file_path_target_file = '/'.join(file_path_target)\n",
    "    file_path_target_dir = '/'.join(file_path_target[:-1])\n",
    "    file_path_source = file\n",
    "    \n",
    "    if not os.path.exists(file_path_target_dir):\n",
    "        os.makedirs(file_path_target_dir)\n",
    "\n",
    "    copyanything(file_path_source, file_path_target_file)\n"
   ]
  },
  {
   "cell_type": "code",
   "execution_count": 26,
   "id": "ab9ab8f9",
   "metadata": {},
   "outputs": [
    {
     "name": "stdout",
     "output_type": "stream",
     "text": [
      "/home/msrdl/azure_mounts/exp_output/dino_exp/vil/vil_1281/bl_lr0.0005_gpu16_bs64_2crop_epoch100/checkpoint.pth\n",
      "/home/msrdl/azure_mounts/exp_output/ckpt/esvit/vil/vil_1281/bl_lr0.0005_gpu16_bs64_2crop_epoch100/checkpoint.pth\n",
      "/home/msrdl/azure_mounts/exp_output/ckpt/esvit/vil/vil_1281/bl_lr0.0005_gpu16_bs64_2crop_epoch100\n"
     ]
    }
   ],
   "source": [
    "file_path\n",
    "\n",
    "file_path_source = file_path.split('/')\n",
    "file_path_target = file_path_source\n",
    "file_path_target[5] = 'ckpts/esvit'\n",
    "\n",
    "file_path_target_file = '/'.join(file_path_target)\n",
    "file_path_target_dir = '/'.join(file_path_target[:-1])\n",
    "file_path_source = file_path\n",
    "\n",
    "\n",
    "print(file_path_source)\n",
    "print(file_path_target_file)\n",
    "print(file_path_target_dir)"
   ]
  },
  {
   "cell_type": "code",
   "execution_count": 18,
   "id": "fdeb6813",
   "metadata": {},
   "outputs": [],
   "source": []
  },
  {
   "cell_type": "code",
   "execution_count": 27,
   "id": "1ccb01c7",
   "metadata": {},
   "outputs": [],
   "source": []
  },
  {
   "cell_type": "code",
   "execution_count": 23,
   "id": "eaec62f0",
   "metadata": {},
   "outputs": [
    {
     "name": "stdout",
     "output_type": "stream",
     "text": [
      "/home/msrdl/azure_mounts/exp_output/ckpt/esvit/vil/vil_1281/bl_lr0.0005_gpu16_bs64_2crop_epoch100/checkpoint\n"
     ]
    }
   ],
   "source": []
  },
  {
   "cell_type": "code",
   "execution_count": null,
   "id": "3252ade7",
   "metadata": {},
   "outputs": [],
   "source": []
  }
 ],
 "metadata": {
  "kernelspec": {
   "display_name": "Python 3",
   "language": "python",
   "name": "python3"
  },
  "language_info": {
   "codemirror_mode": {
    "name": "ipython",
    "version": 3
   },
   "file_extension": ".py",
   "mimetype": "text/x-python",
   "name": "python",
   "nbconvert_exporter": "python",
   "pygments_lexer": "ipython3",
   "version": "3.7.7"
  }
 },
 "nbformat": 4,
 "nbformat_minor": 5
}
